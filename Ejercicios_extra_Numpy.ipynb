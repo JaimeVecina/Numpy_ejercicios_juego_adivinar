{
 "cells": [
  {
   "cell_type": "markdown",
   "metadata": {},
   "source": [
    "## Extras Numpy\n"
   ]
  },
  {
   "cell_type": "code",
   "execution_count": 1,
   "metadata": {},
   "outputs": [],
   "source": [
    "import numpy as np"
   ]
  },
  {
   "cell_type": "markdown",
   "metadata": {},
   "source": [
    "Generar Matrices Aleatorias:\n",
    "\n",
    "    Crea una matriz AA de dimensiones 5×4 con números aleatorios enteros entre 1 y 10.\n",
    "    Imprime la matriz."
   ]
  },
  {
   "cell_type": "code",
   "execution_count": 12,
   "metadata": {},
   "outputs": [
    {
     "data": {
      "text/plain": [
       "array([[7.59534762, 2.79879184, 4.60964154, 8.28451661],\n",
       "       [2.32241567, 6.22614723, 2.7004248 , 9.17334733],\n",
       "       [2.29768767, 7.27951954, 1.43980971, 7.7585271 ],\n",
       "       [7.87630265, 6.19938252, 1.35365222, 1.84090326],\n",
       "       [2.0797676 , 5.71085477, 7.47214668, 4.68524662]])"
      ]
     },
     "execution_count": 12,
     "metadata": {},
     "output_type": "execute_result"
    }
   ],
   "source": [
    "a = 1\n",
    "b = 10\n",
    "(b-a)*np.random.rand(5,4)+a"
   ]
  },
  {
   "cell_type": "markdown",
   "metadata": {},
   "source": [
    "Filtrado de Elementos: \n",
    "\n",
    "    Dada la matriz B=np.array([[1,2,3],[4,5,6],[7,8,9]]), crea una nueva matriz que contenga solo los números pares de B."
   ]
  },
  {
   "cell_type": "code",
   "execution_count": 29,
   "metadata": {},
   "outputs": [
    {
     "name": "stdout",
     "output_type": "stream",
     "text": [
      "[2 4 6 8]\n"
     ]
    }
   ],
   "source": [
    "B = np.array([[1,2,3],[4,5,6],[7,8,9]])\n",
    "\n",
    "filtrado_pares = (B % 2 == 0)\n",
    "numeros_pares = B[filtrado_pares]\n",
    "\n",
    "print(numeros_pares)\n"
   ]
  },
  {
   "cell_type": "markdown",
   "metadata": {},
   "source": [
    "Suma por Columnas:\n",
    "\n",
    "    Crea una matriz CC de dimensiones 3×3 con números aleatorios entre 1 y 100.\n",
    "    Calcula la suma de cada columna."
   ]
  },
  {
   "cell_type": "code",
   "execution_count": 48,
   "metadata": {},
   "outputs": [
    {
     "name": "stdout",
     "output_type": "stream",
     "text": [
      "[[25.06067012 35.85651286  3.20684702]\n",
      " [22.28319622 88.48158345 67.4966262 ]\n",
      " [12.07547747 37.72031282 96.04985611]]\n",
      "[ 59.41934381 162.05840912 166.75332933]\n"
     ]
    }
   ],
   "source": [
    "a = 1\n",
    "b = 100\n",
    "matriz_CC = (b-a)*np.random.rand(3,3)+a\n",
    "\n",
    "suma_columnas = np.sum(matriz_CC, axis=0)\n",
    "\n",
    "print(matriz_CC)\n",
    "\n",
    "print(suma_columnas)"
   ]
  },
  {
   "cell_type": "markdown",
   "metadata": {},
   "source": [
    "Normalización de una Matriz:\n",
    "\n",
    "    Dada una matriz DD de dimensiones 4×4 con valores aleatorios entre 0 y 255, normaliza sus valores para que estén en el rango [0, 1]."
   ]
  },
  {
   "cell_type": "code",
   "execution_count": 61,
   "metadata": {},
   "outputs": [
    {
     "name": "stdout",
     "output_type": "stream",
     "text": [
      "[[0.89411765 0.89019608 0.51372549 0.1372549 ]\n",
      " [1.         0.72156863 0.02352941 0.28235294]\n",
      " [0.74117647 0.70588235 0.60392157 0.30980392]\n",
      " [0.07058824 0.76470588 0.37647059 0.1372549 ]]\n"
     ]
    }
   ],
   "source": [
    "matriz_DD = np.random.randint(0, 256, size=(4, 4))\n",
    "matriz_normalizada = matriz_DD / 255.0\n",
    "\n",
    "print(matriz_normalizada)"
   ]
  },
  {
   "cell_type": "markdown",
   "metadata": {},
   "source": [
    "Diagonal Principal:\n",
    "\n",
    "    Genera una matriz EE de dimensiones 5×5 con valores aleatorios entre 1 y 50.\n",
    "    Extrae e imprime la diagonal principal."
   ]
  },
  {
   "cell_type": "code",
   "execution_count": null,
   "metadata": {},
   "outputs": [],
   "source": []
  },
  {
   "cell_type": "markdown",
   "metadata": {},
   "source": [
    "Multiplicación de Matrices:\n",
    "\n",
    "    Crea dos matrices F y G de dimensiones 3×3.\n",
    "    Calcula e imprime el resultado de F×G."
   ]
  },
  {
   "cell_type": "code",
   "execution_count": null,
   "metadata": {},
   "outputs": [],
   "source": []
  },
  {
   "cell_type": "markdown",
   "metadata": {},
   "source": [
    "Promedio de una Matriz:\n",
    "\n",
    "    Genera una matriz H de dimensiones 4×5 con números aleatorios entre 0 y 100.\n",
    "    Calcula e imprime el promedio de todos los valores en H."
   ]
  },
  {
   "cell_type": "code",
   "execution_count": null,
   "metadata": {},
   "outputs": [],
   "source": []
  },
  {
   "cell_type": "markdown",
   "metadata": {},
   "source": [
    "Trasposición y Adición:\n",
    "\n",
    "    Crea una matriz I de dimensiones 2×3 con números aleatorios entre 1 y 10.\n",
    "    Calcula su transposición IT y suma ambas matrices: I+IT. (Nota: IT tendrá dimensiones 3×2, así que tendrás que ajustar las matrices para que se puedan sumar)."
   ]
  },
  {
   "cell_type": "code",
   "execution_count": null,
   "metadata": {},
   "outputs": [],
   "source": []
  },
  {
   "cell_type": "markdown",
   "metadata": {},
   "source": [
    "Elemento Mayor y su Posición:\n",
    "\n",
    "    Genera una matriz J de dimensiones 4×4 con valores aleatorios entre 1 y 100.\n",
    "    Encuentra e imprime el valor más grande de la matriz y su posición (índice de fila e índice de columna)."
   ]
  },
  {
   "cell_type": "code",
   "execution_count": null,
   "metadata": {},
   "outputs": [],
   "source": []
  },
  {
   "cell_type": "markdown",
   "metadata": {},
   "source": [
    "Reemplazo Condicional:\n",
    "\n",
    "    Crea una matriz KK de dimensiones 3×3 con números aleatorios entre 0 y 10.\n",
    "    Reemplaza cualquier número mayor a 5 con el valor 1 y cualquier número menor o igual a 5 con el valor 0.\n",
    "    Imprime la matriz resultante."
   ]
  },
  {
   "cell_type": "code",
   "execution_count": null,
   "metadata": {},
   "outputs": [],
   "source": []
  },
  {
   "cell_type": "markdown",
   "metadata": {},
   "source": [
    "Escribe un programa que seleccione un número al azar entre 1 y 100 y le \n",
    "pida al usuario que lo adivine. El programa debe indicar si el número \n",
    "introducido por el usuario es más alto o más bajo que el número \n",
    "seleccionado al azar, hasta que el usuario adivine correctamente o \n",
    "decida abandonar."
   ]
  },
  {
   "cell_type": "code",
   "execution_count": null,
   "metadata": {},
   "outputs": [],
   "source": []
  }
 ],
 "metadata": {
  "kernelspec": {
   "display_name": "Python 3",
   "language": "python",
   "name": "python3"
  },
  "language_info": {
   "codemirror_mode": {
    "name": "ipython",
    "version": 3
   },
   "file_extension": ".py",
   "mimetype": "text/x-python",
   "name": "python",
   "nbconvert_exporter": "python",
   "pygments_lexer": "ipython3",
   "version": "3.11.5"
  },
  "orig_nbformat": 4
 },
 "nbformat": 4,
 "nbformat_minor": 2
}
